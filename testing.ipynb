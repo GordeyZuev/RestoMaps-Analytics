{
 "cells": [
  {
   "cell_type": "code",
   "execution_count": null,
   "id": "79cf50df",
   "metadata": {},
   "outputs": [],
   "source": [
    "import os\n",
    "from dotenv import load_dotenv\n",
    "from notion_client import Client\n",
    "import json\n",
    "\n",
    "load_dotenv()\n",
    "NOTION_API_KEY = os.getenv(\"NOTION_API_KEY\")\n",
    "DATABASE_ID = os.getenv(\"DATABASE_ID\")\n",
    "YA_GEO_SUGEST_API_KEY = os.getenv(\"YA_GEO_SUGEST_API_KEY\")\n",
    "YA_ORG_SEARCH_API_KEY = os.getenv(\"YA_ORG_SEARCH_API_KEY\")"
   ]
  },
  {
   "cell_type": "code",
   "execution_count": null,
   "id": "0812be67",
   "metadata": {},
   "outputs": [],
   "source": [
    "notion = Client(auth=NOTION_API_KEY)\n",
    "response = notion.search(database_id=DATABASE_ID)\n",
    "response"
   ]
  },
  {
   "cell_type": "code",
   "execution_count": null,
   "id": "b3976565",
   "metadata": {},
   "outputs": [],
   "source": [
    "response = notion.databases.query(\n",
    "    database_id=DATABASE_ID,\n",
    "    filter={\n",
    "        \"property\": \"Место\",\n",
    "        \"title\": {\n",
    "            \"contains\": \"Skuratov\"\n",
    "        }\n",
    "    }\n",
    ")\n",
    "\n",
    "response['results'][0]['properties']['Место']['title'][0]['plain_text']"
   ]
  },
  {
   "cell_type": "code",
   "execution_count": null,
   "id": "1669ae9d",
   "metadata": {},
   "outputs": [],
   "source": [
    "response = notion.databases.query(\n",
    "    database_id=DATABASE_ID,\n",
    "    sorts=[{  # Обратите внимание - должно быть sorts (множественное число)\n",
    "        \"property\": \"Место\",\n",
    "        \"direction\": \"ascending\"\n",
    "    }]\n",
    ")\n",
    "\n",
    "for page in response['results']:\n",
    "    print(f'{page['properties']['Место']['title'][0]['plain_text']} --- {page['properties']['Посещено']['status']['name']}')"
   ]
  },
  {
   "cell_type": "code",
   "execution_count": null,
   "id": "88216123",
   "metadata": {},
   "outputs": [],
   "source": [
    "# response = notion.search(\n",
    "#     query=\"поисковый запрос\",\n",
    "#     filter={...},\n",
    "#     sort={...},\n",
    "#     page_size=100,\n",
    "#     start_cursor=\"...\"\n",
    "# )"
   ]
  }
 ],
 "metadata": {
  "kernelspec": {
   "display_name": ".venv",
   "language": "python",
   "name": "python3"
  },
  "language_info": {
   "codemirror_mode": {
    "name": "ipython",
    "version": 3
   },
   "file_extension": ".py",
   "mimetype": "text/x-python",
   "name": "python",
   "nbconvert_exporter": "python",
   "pygments_lexer": "ipython3",
   "version": "3.13.5"
  }
 },
 "nbformat": 4,
 "nbformat_minor": 5
}
